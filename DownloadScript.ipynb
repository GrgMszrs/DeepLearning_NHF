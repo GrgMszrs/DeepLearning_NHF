{
 "cells": [
  {
   "cell_type": "code",
   "execution_count": 2,
   "metadata": {},
   "outputs": [
    {
     "name": "stdout",
     "output_type": "stream",
     "text": [
      "--2020-11-15 19:08:56--  https://storage.googleapis.com/isl-datasets/SID/Sony.zip\n",
      "Resolving storage.googleapis.com (storage.googleapis.com)... 66.102.1.128, 173.194.76.128, 108.177.15.128, ...\n",
      "Connecting to storage.googleapis.com (storage.googleapis.com)|66.102.1.128|:443... connected.\n",
      "HTTP request sent, awaiting response... 200 OK\n",
      "Length: 26926662016 (25G) [application/zip]\n",
      "Saving to: ‘Sony.zip’\n",
      "\n",
      "Sony.zip            100%[===================>]  25.08G  90.4MB/s    in 4m 46s  \n",
      "\n",
      "2020-11-15 19:13:43 (89.7 MB/s) - ‘Sony.zip’ saved [26926662016/26926662016]\n",
      "\n"
     ]
    }
   ],
   "source": [
    "!wget https://storage.googleapis.com/isl-datasets/SID/Sony.zip\n",
    "    "
   ]
  },
  {
   "cell_type": "code",
   "execution_count": 5,
   "metadata": {},
   "outputs": [],
   "source": [
    "import zipfile \n",
    "\n",
    "path = \"/home/takats_balint1/deephf/data/Sony.zip\"\n",
    "with zipfile.ZipFile(path, 'r') as zip_ref:\n",
    "    zip_ref.extractall(\"/home/takats_balint1/deephf/data\")"
   ]
  },
  {
   "cell_type": "code",
   "execution_count": null,
   "metadata": {},
   "outputs": [],
   "source": []
  },
  {
   "cell_type": "code",
   "execution_count": null,
   "metadata": {},
   "outputs": [],
   "source": []
  }
 ],
 "metadata": {
  "kernelspec": {
   "display_name": "Python 3",
   "language": "python",
   "name": "python3"
  },
  "language_info": {
   "codemirror_mode": {
    "name": "ipython",
    "version": 3
   },
   "file_extension": ".py",
   "mimetype": "text/x-python",
   "name": "python",
   "nbconvert_exporter": "python",
   "pygments_lexer": "ipython3",
   "version": "3.7.8"
  }
 },
 "nbformat": 4,
 "nbformat_minor": 4
}
