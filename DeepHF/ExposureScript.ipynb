{
 "cells": [
  {
   "cell_type": "markdown",
   "metadata": {},
   "source": [
    "Here we defined our own exposure estimation modell. Based on the input picture it predicts an amplification ratio."
   ]
  },
  {
   "cell_type": "markdown",
   "metadata": {},
   "source": [
    "Hyperparameters which can easily be changed."
   ]
  },
  {
   "cell_type": "code",
   "execution_count": 2,
   "metadata": {},
   "outputs": [],
   "source": [
    "HEIGHT = 64\n",
    "WIDTH = 64"
   ]
  },
  {
   "cell_type": "markdown",
   "metadata": {},
   "source": [
    "Here are all the imports."
   ]
  },
  {
   "cell_type": "code",
   "execution_count": 3,
   "metadata": {},
   "outputs": [],
   "source": [
    "from tensorflow.keras.models import Sequential\n",
    "from tensorflow.keras.layers import Dense, Conv2D, MaxPooling2D, Dropout, Flatten, Embedding\n",
    "from tensorflow.keras.optimizers import SGD\n",
    "\n",
    "import os\n",
    "import skimage.io as io\n",
    "import skimage.transform as trasns\n",
    "\n",
    "from keras.models import *\n",
    "from keras.layers import *\n",
    "from keras.losses import *\n",
    "from keras.optimizers import *\n",
    "from keras.callbacks import ModelCheckpoint, LearningRateScheduler, EarlyStopping, Callback, ReduceLROnPlateau\n",
    "\n",
    "import rawpy\n",
    "import cv2\n",
    "import numpy as np\n",
    "from numpy import genfromtxt\n",
    "\n",
    "import time\n",
    "import math\n",
    "import matplotlib.pyplot as plt\n",
    "import matplotlib.image as mpimg\n",
    "from matplotlib import cm\n",
    "from PIL import Image\n",
    "import pandas\n",
    "from sklearn.preprocessing import StandardScaler"
   ]
  },
  {
   "cell_type": "markdown",
   "metadata": {},
   "source": [
    "The paths to the directories"
   ]
  },
  {
   "cell_type": "code",
   "execution_count": 4,
   "metadata": {},
   "outputs": [],
   "source": [
    "trainPath = \"/home/takats_balint1/deephf/data/Sony_train_list.txt\"\n",
    "valPath = \"/home/takats_balint1/deephf/data/Sony_val_list.txt\"\n",
    "testPath = \"/home/takats_balint1/deephf/data/Sony_test_list.txt\"\n",
    "replaceString = \"/home/takats_balint1/deephf/data\""
   ]
  },
  {
   "cell_type": "markdown",
   "metadata": {},
   "source": [
    "This function returns tuple, consisting of the raw, and its ground truth pair paths'"
   ]
  },
  {
   "cell_type": "code",
   "execution_count": 5,
   "metadata": {},
   "outputs": [],
   "source": [
    "def LoadData(path):\n",
    "    Data = []\n",
    "    with open(path) as File:\n",
    "        for line in File:\n",
    "            data, truth, _, _ = line.split()\n",
    "            data = data.replace(\".\", replaceString, 1)\n",
    "            truth = truth.replace(\".\", replaceString, 1)\n",
    "            # This method is slow but we only have a 1000 lines so this quick and dirty algortihm will do just fine\n",
    "            Data.append([data, truth])\n",
    "    print (len(Data))\n",
    "    return Data"
   ]
  },
  {
   "cell_type": "markdown",
   "metadata": {},
   "source": [
    "load in the train, validation and test dataset"
   ]
  },
  {
   "cell_type": "code",
   "execution_count": 6,
   "metadata": {},
   "outputs": [
    {
     "name": "stdout",
     "output_type": "stream",
     "text": [
      "1865\n"
     ]
    }
   ],
   "source": [
    "trainData = LoadData(trainPath)"
   ]
  },
  {
   "cell_type": "code",
   "execution_count": 7,
   "metadata": {},
   "outputs": [
    {
     "name": "stdout",
     "output_type": "stream",
     "text": [
      "234\n"
     ]
    }
   ],
   "source": [
    "valData = LoadData(valPath)"
   ]
  },
  {
   "cell_type": "code",
   "execution_count": 8,
   "metadata": {},
   "outputs": [
    {
     "name": "stdout",
     "output_type": "stream",
     "text": [
      "598\n"
     ]
    }
   ],
   "source": [
    "testData = LoadData(testPath)"
   ]
  },
  {
   "cell_type": "markdown",
   "metadata": {},
   "source": [
    "fixfile returns the resized, smaller version of the given file, for this, a different script previously resized and created a library for the smaller images"
   ]
  },
  {
   "cell_type": "code",
   "execution_count": 9,
   "metadata": {},
   "outputs": [],
   "source": [
    "def fixFile(file):\n",
    "    return file.replace(\"data\", \"smalldata\").replace(\"ARW\", \"csv\")"
   ]
  },
  {
   "cell_type": "markdown",
   "metadata": {},
   "source": [
    "loadFile, using fixfile and genfromtxt, returns an ndarray, with the given shape"
   ]
  },
  {
   "cell_type": "code",
   "execution_count": 10,
   "metadata": {},
   "outputs": [],
   "source": [
    "def loadFile(file):\n",
    "    good = fixFile(file)\n",
    "    data = genfromtxt(good, delimiter=',')\n",
    "    return data.reshape((HEIGHT, WIDTH,3))"
   ]
  },
  {
   "cell_type": "markdown",
   "metadata": {},
   "source": [
    "Ratio function with the appropiate exposure ratio. We use this as the groud truth."
   ]
  },
  {
   "cell_type": "code",
   "execution_count": 11,
   "metadata": {},
   "outputs": [],
   "source": [
    "def Ratio(in_path, truth_path):\n",
    "    in_exposure = float(in_path[53:-5])\n",
    "    gt_exposure = float(truth_path[52:-5])\n",
    "    ratio = min(gt_exposure / in_exposure, 300)\n",
    "    return ratio"
   ]
  },
  {
   "cell_type": "markdown",
   "metadata": {},
   "source": [
    "train_Data and val_Data both returns two-two ndarrays, consisting of the raw images loaded in using loadfile, and the amplification ratio, which stands as the ground truth for this network"
   ]
  },
  {
   "cell_type": "code",
   "execution_count": 12,
   "metadata": {},
   "outputs": [],
   "source": [
    "def train_Data():\n",
    "    trainPermutation = np.random.permutation(len(trainData))\n",
    "    data = [None] * len(trainData)\n",
    "    truth = [None] * len(trainData)\n",
    "    \n",
    "    start_time = time.time()\n",
    "    \n",
    "    for i in range(0, len(trainPermutation)):\n",
    "        ratio = Ratio(trainData[trainPermutation[i]][0], trainData[trainPermutation[i]][1])\n",
    "        truth[i] = ratio\n",
    "        raw = loadFile(trainData[trainPermutation[i]][0])\n",
    "        data[i] = raw\n",
    "        \n",
    "    load_end_time = time.time()\n",
    "    \n",
    "    print(\"Train data load time taken: \" + str(load_end_time-start_time))\n",
    "    \n",
    "    return np.array(data), np.array(truth)"
   ]
  },
  {
   "cell_type": "code",
   "execution_count": 13,
   "metadata": {},
   "outputs": [],
   "source": [
    "def val_Data():\n",
    "    valPermutation = np.random.permutation(len(valData))\n",
    "    val_data = [None] * len(valData)\n",
    "    val_truth = [None] * len(valData)\n",
    "    \n",
    "    start_time = time.time()\n",
    "    \n",
    "    for i in range(0, len(valPermutation)):\n",
    "        ratio = Ratio(valData[valPermutation[i]][0], valData[valPermutation[i]][1])\n",
    "        val_truth[i] = ratio\n",
    "        raw = loadFile(valData[valPermutation[i]][0])\n",
    "        val_data[i] = raw\n",
    "        \n",
    "    load_end_time = time.time()\n",
    "    \n",
    "    print(\"Validation data load time taken: \" + str(load_end_time-start_time))\n",
    "    \n",
    "    return np.array(val_data), np.array(val_truth)"
   ]
  },
  {
   "cell_type": "markdown",
   "metadata": {},
   "source": [
    "Loading in from memory takes a bit of time, but thats acceptable, since roughly 2000 images and their ground truth pair are being loaded in"
   ]
  },
  {
   "cell_type": "code",
   "execution_count": 13,
   "metadata": {
    "scrolled": false
   },
   "outputs": [
    {
     "name": "stdout",
     "output_type": "stream",
     "text": [
      "Train data load time taken: 409.1029164791107\n",
      "Validation data load time taken: 47.7675096988678\n"
     ]
    }
   ],
   "source": [
    "data, truth = train_Data()\n",
    "val_data, val_truth = val_Data()"
   ]
  },
  {
   "cell_type": "markdown",
   "metadata": {},
   "source": [
    "Scaling the truth value, by this, we're allowing the network to more quickly learn the optimal parameters for each input "
   ]
  },
  {
   "cell_type": "code",
   "execution_count": 14,
   "metadata": {},
   "outputs": [],
   "source": [
    "truth = truth.reshape(-1, 1)\n",
    "val_truth = val_truth.reshape(-1, 1)\n",
    "\n",
    "scaler = StandardScaler()\n",
    "truth = scaler.fit_transform(truth)\n",
    "val_truth = scaler.fit_transform(val_truth)"
   ]
  },
  {
   "cell_type": "markdown",
   "metadata": {},
   "source": [
    "Loading best hyperparameters from a log file which we created in the HyperOptScript"
   ]
  },
  {
   "cell_type": "code",
   "execution_count": 23,
   "metadata": {},
   "outputs": [
    {
     "data": {
      "text/html": [
       "<div>\n",
       "<style scoped>\n",
       "    .dataframe tbody tr th:only-of-type {\n",
       "        vertical-align: middle;\n",
       "    }\n",
       "\n",
       "    .dataframe tbody tr th {\n",
       "        vertical-align: top;\n",
       "    }\n",
       "\n",
       "    .dataframe thead th {\n",
       "        text-align: right;\n",
       "    }\n",
       "</style>\n",
       "<table border=\"1\" class=\"dataframe\">\n",
       "  <thead>\n",
       "    <tr style=\"text-align: right;\">\n",
       "      <th></th>\n",
       "      <th>n_layer1</th>\n",
       "      <th>n_layer2</th>\n",
       "      <th>n_layer3</th>\n",
       "      <th>dropout_1</th>\n",
       "      <th>dropout_2</th>\n",
       "      <th>k_size1</th>\n",
       "      <th>k_size2</th>\n",
       "      <th>act</th>\n",
       "      <th>optim</th>\n",
       "      <th>n_batch</th>\n",
       "      <th>lr</th>\n",
       "      <th>stride_1</th>\n",
       "      <th>stride_2</th>\n",
       "      <th>stride_3</th>\n",
       "      <th>best_val_loss</th>\n",
       "    </tr>\n",
       "  </thead>\n",
       "  <tbody>\n",
       "    <tr>\n",
       "      <th>199</th>\n",
       "      <td>8</td>\n",
       "      <td>4</td>\n",
       "      <td>32</td>\n",
       "      <td>0.406023</td>\n",
       "      <td>0.185245</td>\n",
       "      <td>5</td>\n",
       "      <td>3</td>\n",
       "      <td>relu</td>\n",
       "      <td>adam</td>\n",
       "      <td>2</td>\n",
       "      <td>0.001</td>\n",
       "      <td>2</td>\n",
       "      <td>2</td>\n",
       "      <td>2</td>\n",
       "      <td>0.348148</td>\n",
       "    </tr>\n",
       "  </tbody>\n",
       "</table>\n",
       "</div>"
      ],
      "text/plain": [
       "     n_layer1  n_layer2  n_layer3  dropout_1  dropout_2  k_size1  k_size2  \\\n",
       "199         8         4        32   0.406023   0.185245        5        3   \n",
       "\n",
       "      act optim  n_batch     lr  stride_1  stride_2  stride_3  best_val_loss  \n",
       "199  relu  adam        2  0.001         2         2         2       0.348148  "
      ]
     },
     "execution_count": 23,
     "metadata": {},
     "output_type": "execute_result"
    }
   ],
   "source": [
    "hyperas_log = pandas.read_csv('hyperas-NHF-log.csv', delimiter=';')\n",
    "best_hyperps = hyperas_log.sort_values(by=['best_val_loss'], ascending=True).head(n=1)\n",
    "best_hyperps"
   ]
  },
  {
   "cell_type": "code",
   "execution_count": 24,
   "metadata": {},
   "outputs": [],
   "source": [
    "best_hyperps = best_hyperps.to_numpy()\n",
    "n_layer1, n_layer2, n_layer3, dropout_1, dropout_2, k_size1, k_size2, act, optim, n_batch, lr, stride_1, stride_2, stride_3, best_val_loss = best_hyperps.reshape(1, -1).T"
   ]
  },
  {
   "cell_type": "markdown",
   "metadata": {},
   "source": [
    "Set activation and optimizer"
   ]
  },
  {
   "cell_type": "code",
   "execution_count": 85,
   "metadata": {},
   "outputs": [],
   "source": [
    "activat = ReLU()\n",
    "if act == 'leakyrelu':\n",
    "    activat = LeakyReLU()\n",
    "elif act == 'elu':\n",
    "    activat = ELU()\n",
    "    \n",
    "if optim == 'rmsprop':\n",
    "    optimiz = RMSprop(learning_rate=lr.item())\n",
    "elif optim == 'sgd':\n",
    "    optimiz = SGD(learning_rate=lr.item())\n",
    "elif optim == 'adam':\n",
    "    optimiz = Adam(learning_rate=lr.item())"
   ]
  },
  {
   "cell_type": "markdown",
   "metadata": {},
   "source": [
    "For the model, we use a cnn with 3 conv. layers,dropout, and a flatten layer before the last dense with 1 output"
   ]
  },
  {
   "cell_type": "code",
   "execution_count": 100,
   "metadata": {
    "scrolled": false
   },
   "outputs": [
    {
     "name": "stdout",
     "output_type": "stream",
     "text": [
      "Model: \"sequential_11\"\n",
      "_________________________________________________________________\n",
      "Layer (type)                 Output Shape              Param #   \n",
      "=================================================================\n",
      "conv2d_33 (Conv2D)           (None, 30, 30, 8)         608       \n",
      "_________________________________________________________________\n",
      "max_pooling2d_22 (MaxPooling (None, 15, 15, 8)         0         \n",
      "_________________________________________________________________\n",
      "dropout_22 (Dropout)         (None, 15, 15, 8)         0         \n",
      "_________________________________________________________________\n",
      "conv2d_34 (Conv2D)           (None, 7, 7, 4)           292       \n",
      "_________________________________________________________________\n",
      "max_pooling2d_23 (MaxPooling (None, 3, 3, 4)           0         \n",
      "_________________________________________________________________\n",
      "dropout_23 (Dropout)         (None, 3, 3, 4)           0         \n",
      "_________________________________________________________________\n",
      "conv2d_35 (Conv2D)           (None, 1, 1, 32)          1184      \n",
      "_________________________________________________________________\n",
      "flatten_11 (Flatten)         (None, 32)                0         \n",
      "_________________________________________________________________\n",
      "dense_11 (Dense)             (None, 1)                 33        \n",
      "=================================================================\n",
      "Total params: 2,117\n",
      "Trainable params: 2,117\n",
      "Non-trainable params: 0\n",
      "_________________________________________________________________\n"
     ]
    }
   ],
   "source": [
    "model = Sequential() \n",
    "model.add(Conv2D(n_layer1.item(), kernel_size=(k_size1.item(), k_size1.item()), activation=activat, input_shape=(HEIGHT, WIDTH, 3), strides= stride_1.item())) \n",
    "model.add(MaxPooling2D(pool_size=(2, 2)))\n",
    "model.add(Dropout(dropout_1.item()))\n",
    "model.add(Conv2D(n_layer2.item(), (k_size2.item(), k_size2.item()), activation=activat, strides = stride_2.item())) \n",
    "model.add(MaxPooling2D(pool_size=(2, 2))) \n",
    "model.add(Dropout(dropout_2.item()))\n",
    "model.add(Conv2D(n_layer3.item(), (3, 3), activation=activat, strides = stride_3.item()))\n",
    "model.add(Flatten())\n",
    "model.add(Dense(1))\n",
    "    \n",
    "model.compile(loss='mse', optimizer=optimiz)   \n",
    "model.summary()\n",
    "\n",
    "Model = model"
   ]
  },
  {
   "cell_type": "code",
   "execution_count": 101,
   "metadata": {},
   "outputs": [],
   "source": [
    "class TrainingHistory(Callback):\n",
    "    # Empty lists\n",
    "    def on_train_begin(self, logs={}):\n",
    "        # Loss in training data\n",
    "        self.losses = []\n",
    "        # Loss in validation data\n",
    "        self.valid_losses = []\n",
    "        # Epoch number\n",
    "        self.epoch = 0\n",
    "    \n",
    "    # Saving network state\n",
    "    def on_epoch_end(self, epoch, logs={}):\n",
    "        self.losses.append(logs.get('loss'))\n",
    "        self.valid_losses.append(logs.get('val_loss'))\n",
    "        self.epoch += 1\n",
    "            \n",
    "history = TrainingHistory()"
   ]
  },
  {
   "cell_type": "markdown",
   "metadata": {},
   "source": [
    "We used early stopping, to reduce the chances of overfitting, or to help reducing validation loss, using lronplateau"
   ]
  },
  {
   "cell_type": "code",
   "execution_count": 102,
   "metadata": {},
   "outputs": [],
   "source": [
    "early_stopping = EarlyStopping(monitor='val_loss', patience=3, verbose=0)\n",
    "reduce_lr = ReduceLROnPlateau(monitor='val_loss', factor=0.8, patience=8, min_lr=10e-5)\n",
    "\n",
    "callbacks = [early_stopping, history, reduce_lr]"
   ]
  },
  {
   "cell_type": "markdown",
   "metadata": {},
   "source": [
    "Training the model: after reading the raw image in we resize it to match the input_size of the network.\n",
    "Truth will be the reference/output for the network which we supposed to get after a succesful training"
   ]
  },
  {
   "cell_type": "code",
   "execution_count": 103,
   "metadata": {
    "scrolled": false
   },
   "outputs": [
    {
     "name": "stdout",
     "output_type": "stream",
     "text": [
      "Epoch 1/100\n",
      "933/933 [==============================] - 4s 4ms/step - loss: 0.8903 - val_loss: 0.9363\n",
      "Epoch 2/100\n",
      "933/933 [==============================] - 4s 4ms/step - loss: 0.7383 - val_loss: 0.8149\n",
      "Epoch 3/100\n",
      "933/933 [==============================] - 4s 4ms/step - loss: 0.6325 - val_loss: 0.7542\n",
      "Epoch 4/100\n",
      "933/933 [==============================] - 4s 4ms/step - loss: 0.5857 - val_loss: 0.6760\n",
      "Epoch 5/100\n",
      "933/933 [==============================] - 4s 4ms/step - loss: 0.5563 - val_loss: 0.7164\n",
      "Epoch 6/100\n",
      "933/933 [==============================] - 4s 4ms/step - loss: 0.5233 - val_loss: 0.5789\n",
      "Epoch 7/100\n",
      "933/933 [==============================] - 4s 4ms/step - loss: 0.5219 - val_loss: 0.5933\n",
      "Epoch 8/100\n",
      "933/933 [==============================] - 4s 4ms/step - loss: 0.5002 - val_loss: 0.5102\n",
      "Epoch 9/100\n",
      "933/933 [==============================] - 4s 4ms/step - loss: 0.4788 - val_loss: 0.4856\n",
      "Epoch 10/100\n",
      "933/933 [==============================] - 4s 4ms/step - loss: 0.4609 - val_loss: 0.4506\n",
      "Epoch 11/100\n",
      "933/933 [==============================] - 4s 4ms/step - loss: 0.4705 - val_loss: 0.5714\n",
      "Epoch 12/100\n",
      "933/933 [==============================] - 4s 4ms/step - loss: 0.4649 - val_loss: 0.4496\n",
      "Epoch 13/100\n",
      "933/933 [==============================] - 4s 4ms/step - loss: 0.4442 - val_loss: 0.4393\n",
      "Epoch 14/100\n",
      "933/933 [==============================] - 4s 4ms/step - loss: 0.4437 - val_loss: 0.4439\n",
      "Epoch 15/100\n",
      "933/933 [==============================] - 4s 4ms/step - loss: 0.4350 - val_loss: 0.4050\n",
      "Epoch 16/100\n",
      "933/933 [==============================] - 4s 4ms/step - loss: 0.4337 - val_loss: 0.4238\n",
      "Epoch 17/100\n",
      "933/933 [==============================] - 4s 4ms/step - loss: 0.4120 - val_loss: 0.4313\n",
      "Epoch 18/100\n",
      "933/933 [==============================] - 4s 4ms/step - loss: 0.4191 - val_loss: 0.4390\n",
      "INFO:tensorflow:Assets written to: exposure_model/assets\n"
     ]
    }
   ],
   "source": [
    "result = Model.fit(data, truth, batch_size=n_batch.item(), validation_data=(val_data, val_truth), epochs = 100, callbacks=callbacks)\n",
    "Model.save('exposure_model')"
   ]
  },
  {
   "cell_type": "markdown",
   "metadata": {},
   "source": [
    "Reading in the test data, just as done with training and validation data"
   ]
  },
  {
   "cell_type": "code",
   "execution_count": 14,
   "metadata": {},
   "outputs": [],
   "source": [
    "def test_Data():\n",
    "    testPermutation = np.random.permutation(len(testData))\n",
    "    test_data = [None] * len(testData)\n",
    "    test_truth = [None] * len(testData)\n",
    "    \n",
    "    start_time = time.time()\n",
    "    \n",
    "    for i in range(0, len(testPermutation)):\n",
    "        ratio = Ratio(testData[testPermutation[i]][0], testData[testPermutation[i]][1])\n",
    "        test_truth[i] = ratio\n",
    "        raw = loadFile(testData[testPermutation[i]][0])\n",
    "        test_data[i] = raw\n",
    "        \n",
    "    load_end_time = time.time()\n",
    "    \n",
    "    print(\"Test data load time taken: \" + str(load_end_time-start_time))\n",
    "    \n",
    "    return np.array(test_data), np.array(test_truth)"
   ]
  },
  {
   "cell_type": "code",
   "execution_count": 15,
   "metadata": {},
   "outputs": [
    {
     "name": "stdout",
     "output_type": "stream",
     "text": [
      "Test data load time taken: 120.65511107444763\n"
     ]
    }
   ],
   "source": [
    "test_data, test_truth = test_Data()"
   ]
  },
  {
   "cell_type": "markdown",
   "metadata": {},
   "source": [
    "Predicting with the test_data, then inverse-scaling the prediction to match the original test_truth"
   ]
  },
  {
   "cell_type": "code",
   "execution_count": 104,
   "metadata": {
    "scrolled": false
   },
   "outputs": [],
   "source": [
    "preds = Model.predict(test_data)"
   ]
  },
  {
   "cell_type": "markdown",
   "metadata": {},
   "source": [
    "Printing the stops between the predited and actual exposure value\n",
    "Stop is a measurement of Exposure.\n",
    "For example, if you were to increase the exposure by one stop – you would in effect be doubling the exposure.\n",
    "An amateur photographer can easily be one stop inaccurate. "
   ]
  },
  {
   "cell_type": "code",
   "execution_count": 105,
   "metadata": {
    "scrolled": false
   },
   "outputs": [
    {
     "name": "stdout",
     "output_type": "stream",
     "text": [
      "0.12719095532913904\n",
      "1.424899951279535\n",
      "0.12593356063627503\n",
      "0.00035347452566725224\n",
      "0.14031821978070091\n",
      "0.161796680283393\n",
      "0.0931873646283119\n",
      "0.1506322607244659\n",
      "0.14031821978070091\n",
      "0.586025056767209\n",
      "1.3760337931450017\n",
      "0.159269037223277\n",
      "0.24731464243670498\n",
      "0.21435903336664275\n",
      "0.37450013838176943\n",
      "0.14031821978070091\n",
      "0.4740017564508392\n",
      "0.4471910341226595\n",
      "0.20749352192138204\n",
      "0.12271618605309342\n"
     ]
    }
   ],
   "source": [
    "preds = scaler.inverse_transform(preds)\n",
    "for i in range(len(preds[:20])):\n",
    "    print(abs(math.log(preds[i], 2.0) - math.log(test_truth[i], 2.0)))"
   ]
  },
  {
   "cell_type": "markdown",
   "metadata": {},
   "source": [
    "Displaying the first 50 predicted and the actual exposue values"
   ]
  },
  {
   "cell_type": "code",
   "execution_count": 106,
   "metadata": {},
   "outputs": [
    {
     "data": {
      "image/png": "[encoded data removed]",
      "text/plain": [
       "<Figure size 1440x576 with 1 Axes>"
      ]
     },
     "metadata": {
      "needs_background": "light"
     },
     "output_type": "display_data"
    }
   ],
   "source": [
    "plt.figure(figsize=(20, 8))\n",
    "plt.plot(preds[:50], color ='r', label='Predicted exposure') \n",
    "plt.plot(test_truth[:50], color ='g', label='Actual exposure')\n",
    "plt.legend(loc='upper right')\n",
    "plt.grid(True)\n",
    "plt.show()"
   ]
  },
  {
   "cell_type": "markdown",
   "metadata": {},
   "source": [
    "As visible, the predictions were pretty close to the truth, approximately 0.5 stop is the maximum difference.\n",
    "We suppose the small difference is due to resizing the images, and thus losing information"
   ]
  },
  {
   "cell_type": "code",
   "execution_count": 107,
   "metadata": {
    "scrolled": true
   },
   "outputs": [
    {
     "data": {
      "image/png": "[encoded data removed]",
      "text/plain": [
       "<Figure size 720x360 with 1 Axes>"
      ]
     },
     "metadata": {
      "needs_background": "light"
     },
     "output_type": "display_data"
    }
   ],
   "source": [
    "plt.figure(figsize=(10, 5))\n",
    "plt.plot(np.arange(history.epoch), history.losses, color ='g', label='Loss in train data') \n",
    "plt.plot(np.arange(history.epoch), history.valid_losses, color ='b', label='Loss in validation data')\n",
    "plt.legend(loc='upper right')\n",
    "plt.xlabel('Epochs')\n",
    "plt.ylabel('Validation loss')\n",
    "plt.grid(True)\n",
    "plt.show()"
   ]
  },
  {
   "cell_type": "markdown",
   "metadata": {},
   "source": [
    "Plotting the change of the losses"
   ]
  },
  {
   "cell_type": "code",
   "execution_count": null,
   "metadata": {},
   "outputs": [],
   "source": []
  }
 ],
 "metadata": {
  "kernelspec": {
   "display_name": "Python 3",
   "language": "python",
   "name": "python3"
  },
  "language_info": {
   "codemirror_mode": {
    "name": "ipython",
    "version": 3
   },
   "file_extension": ".py",
   "mimetype": "text/x-python",
   "name": "python",
   "nbconvert_exporter": "python",
   "pygments_lexer": "ipython3",
   "version": "3.7.8"
  }
 },
 "nbformat": 4,
 "nbformat_minor": 4
}
