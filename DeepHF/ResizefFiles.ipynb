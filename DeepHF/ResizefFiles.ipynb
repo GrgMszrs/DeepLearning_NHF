{
 "cells": [
  {
   "cell_type": "code",
   "execution_count": 28,
   "metadata": {},
   "outputs": [],
   "source": [
    "#IMPORTS:\n",
    "from tensorflow.keras.models import Sequential\n",
    "from tensorflow.keras.layers import Dense, Conv2D, MaxPooling2D, Dropout, Flatten, Embedding\n",
    "from tensorflow.keras.optimizers import SGD\n",
    "\n",
    "import os\n",
    "import skimage.io as io\n",
    "import skimage.transform as trans\n",
    "\n",
    "from keras.models import *\n",
    "from keras.layers import *\n",
    "from keras.optimizers import *\n",
    "from keras.callbacks import ModelCheckpoint, LearningRateScheduler\n",
    "#from keras import backend as keras\n",
    "\n",
    "import rawpy\n",
    "import cv2\n",
    "import numpy as np\n",
    "from numpy import genfromtxt"
   ]
  },
  {
   "cell_type": "code",
   "execution_count": 41,
   "metadata": {},
   "outputs": [],
   "source": [
    "HEIGHT = 64\n",
    "WIDTH = 64"
   ]
  },
  {
   "cell_type": "code",
   "execution_count": 42,
   "metadata": {},
   "outputs": [],
   "source": [
    "def fixFile(file):\n",
    "    return file.replace(\"data\", \"smalldata\").replace(\"ARW\", \"csv\")"
   ]
  },
  {
   "cell_type": "code",
   "execution_count": 43,
   "metadata": {},
   "outputs": [],
   "source": [
    "def loadFile(file):\n",
    "    good = fixFile(file)\n",
    "    data = genfromtxt(good, delimiter=',')\n",
    "    return data.reshape((HEIGHT, WIDTH,3))"
   ]
  },
  {
   "cell_type": "code",
   "execution_count": 44,
   "metadata": {},
   "outputs": [],
   "source": [
    "valPath = \"/home/takats_balint1/deephf/data/Sony_val_list.txt\"\n",
    "trainPath = \"/home/takats_balint1/deephf/data/Sony_train_list.txt\"\n",
    "testPath = \"/home/takats_balint1/deephf/data/Sony_test_list.txt\"\n",
    "replaceString = \"/home/takats_balint1/deephf/data\""
   ]
  },
  {
   "cell_type": "code",
   "execution_count": 58,
   "metadata": {},
   "outputs": [],
   "source": [
    "saveSmall(loadFileNames(testPath))"
   ]
  },
  {
   "cell_type": "code",
   "execution_count": 59,
   "metadata": {},
   "outputs": [],
   "source": [
    "saveSmall(loadFileNames(valPath))"
   ]
  },
  {
   "cell_type": "code",
   "execution_count": 60,
   "metadata": {},
   "outputs": [],
   "source": [
    "saveSmall(loadFileNames(trainPath))"
   ]
  },
  {
   "cell_type": "code",
   "execution_count": 55,
   "metadata": {},
   "outputs": [],
   "source": [
    "def loadFileNames(path):\n",
    "    returnArray = []\n",
    "    with open(path) as File:\n",
    "        for line in File:\n",
    "            data, truth, _, _ = line.split()\n",
    "            data = data.replace(\".\", replaceString, 1)\n",
    "            truth = truth.replace(\".\", replaceString, 1)\n",
    "            # This method is slow but we only have a 1000 lines so this quick and dirty algortihm will do just fine\n",
    "            returnArray.append([data, truth])\n",
    "    \n",
    "    return returnArray"
   ]
  },
  {
   "cell_type": "code",
   "execution_count": 56,
   "metadata": {},
   "outputs": [],
   "source": [
    "def saveFiles(listOfFiles):\n",
    "    for i in listOfFiles:\n",
    "        raw = rawpy.imread(i)\n",
    "        raw = raw.postprocess(use_camera_wb=True, half_size=False, no_auto_bright=True, output_bps=16)\n",
    "        raw = np.float32(raw / 65535.0)\n",
    "        raw = cv2.resize(raw, dsize=(HEIGHT, WIDTH), interpolation=cv2.INTER_CUBIC)\n",
    "        raw = np.asarray(raw)\n",
    "        name = i\n",
    "        raw.tofile(fixFile(name),sep=',',format='%10.8f')"
   ]
  },
  {
   "cell_type": "code",
   "execution_count": 57,
   "metadata": {},
   "outputs": [],
   "source": [
    "def saveSmall(fileNames):\n",
    "    saveFiles([i[0] for i in fileNames])\n",
    "    saveFiles(list(set([i[1] for i in fileNames])))\n",
    "    "
   ]
  },
  {
   "cell_type": "code",
   "execution_count": null,
   "metadata": {},
   "outputs": [],
   "source": []
  }
 ],
 "metadata": {
  "kernelspec": {
   "display_name": "Python 3",
   "language": "python",
   "name": "python3"
  },
  "language_info": {
   "codemirror_mode": {
    "name": "ipython",
    "version": 3
   },
   "file_extension": ".py",
   "mimetype": "text/x-python",
   "name": "python",
   "nbconvert_exporter": "python",
   "pygments_lexer": "ipython3",
   "version": "3.7.8"
  }
 },
 "nbformat": 4,
 "nbformat_minor": 4
}
